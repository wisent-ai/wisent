{
 "cells": [
  {
   "cell_type": "markdown",
   "metadata": {},
   "source": [
    "# 🚀 Comprehensive Evaluation Framework for Wisent Guard\n",
    "\n",
    "This notebook provides an interactive interface for running comprehensive evaluations that properly separate:\n",
    "\n",
    "1. **🎯 Benchmark Performance**: How well the model solves mathematical problems\n",
    "2. **🔍 Probe Performance**: How well probes detect correctness from model activations\n",
    "3. **⚙️ Steering Optimization**: Grid search to find optimal steering configurations\n",
    "\n",
    "## Key Features:\n",
    "- **Interactive Configuration**: Easy parameter tuning with widgets\n",
    "- **Real-time Progress**: Live updates during evaluation\n",
    "- **Rich Visualizations**: Comprehensive plots and analysis\n",
    "- **Modular Design**: Clean separation of concerns\n",
    "- **Export Results**: Save results and generate reports"
   ]
  },
  {
   "cell_type": "markdown",
   "metadata": {},
   "source": [
    "## 📋 Setup and Imports"
   ]
  },
  {
   "cell_type": "code",
   "execution_count": null,
   "metadata": {},
   "outputs": [],
   "source": "# Core imports\nimport sys\nimport os\nimport warnings\nwarnings.filterwarnings('ignore')\n\n# Set HuggingFace cache to permanent directory\nos.environ['HF_HOME'] = '/workspace/.cache/huggingface'\nos.environ['TRANSFORMERS_CACHE'] = '/workspace/.cache/huggingface/transformers'\nos.environ['HF_DATASETS_CACHE'] = '/workspace/.cache/huggingface/datasets'\n\n# Create cache directories if they don't exist\nos.makedirs('/workspace/.cache/huggingface/transformers', exist_ok=True)\nos.makedirs('/workspace/.cache/huggingface/datasets', exist_ok=True)\n\n# Add project root to path\nproject_root = '/workspace/wisent-guard'\nif project_root not in sys.path:\n    sys.path.append(project_root)\n\n# Check HuggingFace authentication\ndef check_hf_auth():\n    \"\"\"Check if user is logged into HuggingFace and show login instructions if needed.\"\"\"\n    try:\n        import subprocess\n        result = subprocess.run(['huggingface-cli', 'whoami'], capture_output=True, text=True)\n        if result.returncode == 0:\n            username = result.stdout.strip()\n            print(f\"✅ Logged into HuggingFace as: {username}\")\n            return True\n        else:\n            print(\"⚠️ Not logged into HuggingFace!\")\n            print(\"🔐 Please run: huggingface-cli login\")\n            print(\"   This is required to access datasets like AIME 2024/2025\")\n            return False\n    except Exception as e:\n        print(f\"⚠️ Could not check HuggingFace authentication: {e}\")\n        print(\"🔐 If you encounter dataset loading issues, try: huggingface-cli login\")\n        return False\n\n# Import comprehensive evaluation framework\nfrom wisent_guard.core.evaluation.comprehensive import (\n    ComprehensiveEvaluationConfig,\n    ComprehensiveEvaluationPipeline,\n    plot_evaluation_results,\n    create_results_dashboard,\n    generate_summary_report,\n    calculate_comprehensive_metrics,\n    generate_performance_summary\n)\n\n# Visualization and interactivity\nimport matplotlib.pyplot as plt\nimport seaborn as sns\nimport plotly.graph_objects as go\nfrom plotly.subplots import make_subplots\nimport plotly.express as px\n\nfrom IPython.display import display, HTML, Markdown\nimport ipywidgets as widgets\nfrom ipywidgets import interact, interact_manual, fixed\n\n# Data manipulation\nimport pandas as pd\nimport numpy as np\nimport json\nfrom datetime import datetime\nfrom pathlib import Path\n\n# Utilities\nfrom tqdm.notebook import tqdm\nimport logging\n\nprint(\"✅ All imports successful!\")\nprint(f\"📍 Working directory: {os.getcwd()}\")\nprint(f\"🐍 Python version: {sys.version}\")\nprint(f\"💾 HuggingFace cache: {os.environ['HF_HOME']}\")\nprint()\n\n# Check authentication\nhf_authenticated = check_hf_auth()"
  },
  {
   "cell_type": "markdown",
   "metadata": {},
   "source": [
    "## ⚙️ Interactive Configuration\n",
    "\n",
    "Use the widgets below to configure your evaluation. The system will automatically set reasonable defaults based on your model choice."
   ]
  },
  {
   "cell_type": "code",
   "execution_count": null,
   "metadata": {},
   "outputs": [],
   "source": "# Create interactive configuration widgets\n\n# Import math tasks from our task configuration\nimport sys\nsys.path.append('/workspace/wisent-guard')\nfrom wisent_guard.parameters.task_config import MATH_TASKS\n\n# Dataset size mapping - default 100 for math tasks with known exceptions\nDATASET_SIZES = {\n    'math500': 500,\n    'aime': 30, 'aime2024': 30, 'aime2025': 30,\n    'hmmt': 50, 'hmmt_feb_2025': 50,\n    **{task: 100 for task in MATH_TASKS}\n}\n\n# Create simple dataset options from math tasks\nmath_options = [(task.replace('_', ' ').title(), task) for task in sorted(MATH_TASKS)]\n\n# Model configuration\nmodel_widget = widgets.Dropdown(\n    options=[\n        ('DistilGPT2 (Fast)', 'distilbert/distilgpt2'),\n        ('GPT2', 'gpt2'),\n        ('LLaMA 3.1 8B', '/workspace/models/llama31-8b-instruct-hf'),\n        ('Qwen 3 8B', 'Qwen/Qwen3-8B')\n    ],\n    value='distilbert/distilgpt2',\n    description='Model:'\n)\n\n# Dataset configuration\ntrain_dataset_widget = widgets.Dropdown(options=math_options, value='math500', description='Train:')\nval_dataset_widget = widgets.Dropdown(options=math_options, value='aime2024', description='Val:')\ntest_dataset_widget = widgets.Dropdown(options=math_options, value='aime2025', description='Test:')\n\n# Sample limits with automatic adjustment\ntrain_limit_widget = widgets.IntSlider(value=100, min=5, max=500, step=5, description='Train samples:')\nval_limit_widget = widgets.IntSlider(value=30, min=3, max=100, step=2, description='Val samples:')\ntest_limit_widget = widgets.IntSlider(value=30, min=3, max=100, step=2, description='Test samples:')\n\n# Simple update function\ndef update_limits():\n    train_limit_widget.max = DATASET_SIZES.get(train_dataset_widget.value, 100)\n    val_limit_widget.max = DATASET_SIZES.get(val_dataset_widget.value, 100)\n    test_limit_widget.max = DATASET_SIZES.get(test_dataset_widget.value, 100)\n\n# Set up observers\nfor widget in [train_dataset_widget, val_dataset_widget, test_dataset_widget]:\n    widget.observe(lambda x: update_limits(), names='value')\n\nupdate_limits()\n\n# Advanced options\nenable_wandb_widget = widgets.Checkbox(value=True, description='Enable W&B logging')\nexperiment_name_widget = widgets.Text(value='math_eval', description='Experiment:')\n\n# Simple layout\ndisplay(widgets.VBox([\n    widgets.HTML(\"<h3>🤖 Configuration</h3>\"),\n    model_widget,\n    widgets.HTML(\"<h4>📊 Math Datasets</h4>\"),\n    widgets.HBox([train_dataset_widget, val_dataset_widget, test_dataset_widget]),\n    widgets.HTML(\"<h4>🔢 Sample Limits</h4>\"),\n    widgets.HBox([train_limit_widget, val_limit_widget, test_limit_widget]),\n    widgets.HTML(\"<h4>⚙️ Options</h4>\"),\n    widgets.HBox([enable_wandb_widget, experiment_name_widget])\n]))\n\nprint(f\"✅ {len(MATH_TASKS)} math datasets available | Default: 100 samples (auto-adjusted for smaller datasets)\")\nprint(\"👆 Configure above, then run next cell\")"
  },
  {
   "cell_type": "markdown",
   "metadata": {},
   "source": [
    "## 🛠️ Create Configuration\n",
    "\n",
    "Run this cell to create your evaluation configuration based on the widgets above."
   ]
  },
  {
   "cell_type": "code",
   "execution_count": 3,
   "metadata": {},
   "outputs": [
    {
     "name": "stdout",
     "output_type": "stream",
     "text": [
      "📋 CONFIGURATION SUMMARY\n",
      "==================================================\n",
      "🤖 Model: distilbert/distilgpt2\n",
      "📊 Datasets: math500 → aime2024 → aime2025\n",
      "🔢 Samples: 20 + 10 + 10 = 40 total\n",
      "🎯 Probe layers: [2, 3, 4, 5]\n",
      "⚙️ Steering layers: [3, 4, 5]\n",
      "🧪 Total hyperparameter combinations: 36\n",
      "📈 Wandb enabled: True\n",
      "==================================================\n",
      "⏱️ Estimated runtime: ~18.0 minutes\n",
      "\n",
      "✅ Configuration created successfully!\n"
     ]
    }
   ],
   "source": [
    "# Create configuration from widget values\n",
    "config = ComprehensiveEvaluationConfig(\n",
    "    model_name=model_widget.value,\n",
    "    train_dataset=train_dataset_widget.value,\n",
    "    val_dataset=val_dataset_widget.value,\n",
    "    test_dataset=test_dataset_widget.value,\n",
    "    train_limit=train_limit_widget.value,\n",
    "    val_limit=val_limit_widget.value,\n",
    "    test_limit=test_limit_widget.value,\n",
    "    enable_wandb=enable_wandb_widget.value,\n",
    "    experiment_name=experiment_name_widget.value\n",
    ")\n",
    "\n",
    "# Display configuration summary\n",
    "print(\"📋 CONFIGURATION SUMMARY\")\n",
    "print(\"=\"*50)\n",
    "print(f\"🤖 Model: {config.model_name}\")\n",
    "print(f\"📊 Datasets: {config.train_dataset} → {config.val_dataset} → {config.test_dataset}\")\n",
    "print(f\"🔢 Samples: {config.train_limit} + {config.val_limit} + {config.test_limit} = {config.train_limit + config.val_limit + config.test_limit} total\")\n",
    "print(f\"🎯 Probe layers: {config.probe_layers}\")\n",
    "print(f\"⚙️ Steering layers: {config.steering_layers}\")\n",
    "print(f\"🧪 Total hyperparameter combinations: {config.get_hyperparameter_search_space_size()}\")\n",
    "print(f\"📈 Wandb enabled: {config.enable_wandb}\")\n",
    "print(\"=\"*50)\n",
    "\n",
    "# Estimate runtime\n",
    "estimated_minutes = config.get_hyperparameter_search_space_size() * 0.5  # Rough estimate\n",
    "print(f\"⏱️ Estimated runtime: ~{estimated_minutes:.1f} minutes\")\n",
    "\n",
    "if config.get_hyperparameter_search_space_size() > 50:\n",
    "    print(\"⚠️ Large search space detected. Consider reducing sample sizes for faster testing.\")\n",
    "\n",
    "print(\"\\n✅ Configuration created successfully!\")"
   ]
  },
  {
   "cell_type": "markdown",
   "metadata": {},
   "source": [
    "## 🚀 Run Comprehensive Evaluation\n",
    "\n",
    "This is the main evaluation cell. It will:\n",
    "\n",
    "1. **🎯 Train Probes**: Train correctness classifiers on all specified layers\n",
    "2. **⚙️ Optimize Hyperparameters**: Grid search for best steering + probe combinations\n",
    "3. **🏆 Final Evaluation**: Test optimized configuration on held-out test set\n",
    "\n",
    "**Note**: This may take several minutes depending on your configuration."
   ]
  },
  {
   "cell_type": "code",
   "execution_count": 4,
   "metadata": {
    "scrolled": true
   },
   "outputs": [
    {
     "name": "stderr",
     "output_type": "stream",
     "text": [
      "\u001b[34m\u001b[1mwandb\u001b[0m: Currently logged in as: \u001b[33mjanwisent\u001b[0m (\u001b[33mwisent\u001b[0m) to \u001b[32mhttps://api.wandb.ai\u001b[0m. Use \u001b[1m`wandb login --relogin`\u001b[0m to force relogin\n"
     ]
    },
    {
     "data": {
      "text/html": [
       "Tracking run with wandb version 0.21.0"
      ],
      "text/plain": [
       "<IPython.core.display.HTML object>"
      ]
     },
     "metadata": {},
     "output_type": "display_data"
    },
    {
     "data": {
      "text/html": [
       "Run data is saved locally in <code>/workspace/wisent-guard/comprehensive_evaluation/wandb/run-20250724_134236-rwbs7lhf</code>"
      ],
      "text/plain": [
       "<IPython.core.display.HTML object>"
      ]
     },
     "metadata": {},
     "output_type": "display_data"
    },
    {
     "data": {
      "text/html": [
       "Syncing run <strong><a href='https://wandb.ai/wisent/wisent-guard-comprehensive-evaluation/runs/rwbs7lhf' target=\"_blank\">comprehensive_evaluation_notebook_20250724_134234</a></strong> to <a href='https://wandb.ai/wisent/wisent-guard-comprehensive-evaluation' target=\"_blank\">Weights & Biases</a> (<a href='https://wandb.me/developer-guide' target=\"_blank\">docs</a>)<br>"
      ],
      "text/plain": [
       "<IPython.core.display.HTML object>"
      ]
     },
     "metadata": {},
     "output_type": "display_data"
    },
    {
     "data": {
      "text/html": [
       " View project at <a href='https://wandb.ai/wisent/wisent-guard-comprehensive-evaluation' target=\"_blank\">https://wandb.ai/wisent/wisent-guard-comprehensive-evaluation</a>"
      ],
      "text/plain": [
       "<IPython.core.display.HTML object>"
      ]
     },
     "metadata": {},
     "output_type": "display_data"
    },
    {
     "data": {
      "text/html": [
       " View run at <a href='https://wandb.ai/wisent/wisent-guard-comprehensive-evaluation/runs/rwbs7lhf' target=\"_blank\">https://wandb.ai/wisent/wisent-guard-comprehensive-evaluation/runs/rwbs7lhf</a>"
      ],
      "text/plain": [
       "<IPython.core.display.HTML object>"
      ]
     },
     "metadata": {},
     "output_type": "display_data"
    },
    {
     "name": "stderr",
     "output_type": "stream",
     "text": [
      "INFO:wisent_guard.core.evaluation.comprehensive.pipeline:Wandb experiment initialized successfully\n",
      "INFO:wisent_guard.core.evaluation.comprehensive.pipeline:================================================================================\n",
      "INFO:wisent_guard.core.evaluation.comprehensive.pipeline:🚀 STARTING COMPREHENSIVE EVALUATION PIPELINE\n",
      "INFO:wisent_guard.core.evaluation.comprehensive.pipeline:================================================================================\n",
      "INFO:wisent_guard.core.evaluation.comprehensive.pipeline:Train: math500\n",
      "INFO:wisent_guard.core.evaluation.comprehensive.pipeline:Validation: aime2024\n",
      "INFO:wisent_guard.core.evaluation.comprehensive.pipeline:Test: aime2025\n",
      "INFO:wisent_guard.core.evaluation.comprehensive.pipeline:Model: distilbert/distilgpt2\n",
      "INFO:wisent_guard.core.evaluation.comprehensive.data_utils:Loading model distilbert/distilgpt2 (ONCE)...\n"
     ]
    },
    {
     "name": "stdout",
     "output_type": "stream",
     "text": [
      "🚀 Starting comprehensive evaluation...\n",
      "This may take several minutes. Check the logs below for progress.\n",
      "\n",
      "================================================================================\n"
     ]
    },
    {
     "name": "stderr",
     "output_type": "stream",
     "text": [
      "INFO:wisent_guard.core.evaluation.comprehensive.data_utils:✓ Model loaded on cuda, GPU memory: 0.16 GB\n",
      "INFO:wisent_guard.core.evaluation.comprehensive.pipeline:\n",
      "📊 Loading datasets...\n",
      "INFO:wisent_guard.core.evaluation.comprehensive.data_utils:Loading 20 samples from math500...\n",
      "INFO:wisent_guard.core.evaluation.comprehensive.data_utils:Loaded 20 samples from math500 via Math500Task\n",
      "INFO:wisent_guard.core.evaluation.comprehensive.data_utils:Loading 10 samples from aime2024...\n",
      "INFO:wisent_guard.core.evaluation.comprehensive.data_utils:Loaded 10 samples from aime2024 via AIMETask\n",
      "INFO:wisent_guard.core.evaluation.comprehensive.data_utils:Loading 10 samples from aime2025...\n",
      "INFO:wisent_guard.core.evaluation.comprehensive.data_utils:Loaded 10 samples from aime2025 via AIMETask\n",
      "INFO:wisent_guard.core.evaluation.comprehensive.pipeline:\n",
      "🎯 Phase 1: Training Probes...\n",
      "INFO:wisent_guard.core.evaluation.comprehensive.pipeline:Training probes for layer 2...\n",
      "INFO:wisent_guard.core.evaluation.comprehensive.pipeline:  Layer 2, C=0.1: Acc=0.825, AUC=0.939\n",
      "INFO:wisent_guard.core.evaluation.comprehensive.pipeline:  Layer 2, C=1.0: Acc=0.825, AUC=0.939\n",
      "INFO:wisent_guard.core.evaluation.comprehensive.pipeline:  Layer 2, C=10.0: Acc=0.825, AUC=0.939\n",
      "INFO:wisent_guard.core.evaluation.comprehensive.pipeline:Training probes for layer 3...\n",
      "INFO:wisent_guard.core.evaluation.comprehensive.pipeline:  Layer 3, C=0.1: Acc=0.825, AUC=0.939\n",
      "INFO:wisent_guard.core.evaluation.comprehensive.pipeline:  Layer 3, C=1.0: Acc=0.825, AUC=0.939\n",
      "INFO:wisent_guard.core.evaluation.comprehensive.pipeline:  Layer 3, C=10.0: Acc=0.825, AUC=0.939\n",
      "INFO:wisent_guard.core.evaluation.comprehensive.pipeline:Training probes for layer 4...\n",
      "INFO:wisent_guard.core.evaluation.comprehensive.pipeline:  Layer 4, C=0.1: Acc=0.825, AUC=0.939\n",
      "INFO:wisent_guard.core.evaluation.comprehensive.pipeline:  Layer 4, C=1.0: Acc=0.825, AUC=0.939\n",
      "INFO:wisent_guard.core.evaluation.comprehensive.pipeline:  Layer 4, C=10.0: Acc=0.825, AUC=0.939\n",
      "INFO:wisent_guard.core.evaluation.comprehensive.pipeline:Training probes for layer 5...\n",
      "INFO:wisent_guard.core.evaluation.comprehensive.pipeline:  Layer 5, C=0.1: Acc=0.825, AUC=0.939\n",
      "INFO:wisent_guard.core.evaluation.comprehensive.pipeline:  Layer 5, C=1.0: Acc=0.825, AUC=0.939\n",
      "INFO:wisent_guard.core.evaluation.comprehensive.pipeline:  Layer 5, C=10.0: Acc=0.825, AUC=0.939\n",
      "INFO:wisent_guard.core.evaluation.comprehensive.pipeline:\n",
      "🔍 Phase 2: Steering Optimization (Grid Search)...\n",
      "INFO:wisent_guard.core.evaluation.comprehensive.pipeline:Performing comprehensive grid search optimization...\n",
      "INFO:wisent_guard.core.evaluation.comprehensive.pipeline:Optimizing: steering configs + probe layer/C selection\n",
      "INFO:wisent_guard.core.evaluation.comprehensive.pipeline:Testing steering config: {'method': 'baseline', 'layer': 3, 'strength': 1.0}\n",
      "INFO:wisent_guard.core.evaluation.comprehensive.pipeline:  Benchmark accuracy: 0.000\n",
      "INFO:wisent_guard.core.evaluation.comprehensive.pipeline:  Best probe (layer 2, C=10.0): AUC=0.935\n",
      "INFO:wisent_guard.core.evaluation.comprehensive.pipeline:  Combined score: 0.281\n",
      "INFO:wisent_guard.core.evaluation.comprehensive.pipeline:Testing steering config: {'method': 'baseline', 'layer': 4, 'strength': 1.0}\n",
      "INFO:wisent_guard.core.evaluation.comprehensive.pipeline:  Benchmark accuracy: 0.000\n",
      "INFO:wisent_guard.core.evaluation.comprehensive.pipeline:  Best probe (layer 2, C=10.0): AUC=0.935\n",
      "INFO:wisent_guard.core.evaluation.comprehensive.pipeline:  Combined score: 0.281\n",
      "INFO:wisent_guard.core.evaluation.comprehensive.pipeline:Testing steering config: {'method': 'baseline', 'layer': 5, 'strength': 1.0}\n",
      "INFO:wisent_guard.core.evaluation.comprehensive.pipeline:  Benchmark accuracy: 0.000\n",
      "INFO:wisent_guard.core.evaluation.comprehensive.pipeline:  Best probe (layer 2, C=10.0): AUC=0.935\n",
      "INFO:wisent_guard.core.evaluation.comprehensive.pipeline:  Combined score: 0.281\n",
      "INFO:wisent_guard.core.evaluation.comprehensive.pipeline:\n",
      "🏆 Best overall config:\n",
      "INFO:wisent_guard.core.evaluation.comprehensive.pipeline:  Steering: {'method': 'baseline', 'layer': 3, 'strength': 1.0}\n",
      "INFO:wisent_guard.core.evaluation.comprehensive.pipeline:  Probe: layer 2, C=10.0\n",
      "INFO:wisent_guard.core.evaluation.comprehensive.pipeline:  Combined score: 0.281\n",
      "INFO:wisent_guard.core.evaluation.comprehensive.pipeline:\n",
      "🏆 Phase 3: Final Test Evaluation...\n",
      "INFO:wisent_guard.core.evaluation.comprehensive.pipeline:Using optimized configurations:\n",
      "INFO:wisent_guard.core.evaluation.comprehensive.pipeline:  Steering: {'method': 'baseline', 'layer': 3, 'strength': 1.0}\n",
      "INFO:wisent_guard.core.evaluation.comprehensive.pipeline:  Probe: layer 2, C=10.0\n",
      "INFO:wisent_guard.core.evaluation.comprehensive.pipeline:Evaluating benchmark performance...\n",
      "INFO:wisent_guard.core.evaluation.comprehensive.pipeline:Evaluating probe performance...\n",
      "INFO:wisent_guard.core.evaluation.comprehensive.data_utils:🧹 Freeing model memory...\n",
      "INFO:wisent_guard.core.evaluation.comprehensive.data_utils:GPU memory after cleanup: 0.17 GB\n",
      "INFO:wisent_guard.core.evaluation.comprehensive.pipeline:📁 Results saved to: comprehensive_evaluation_results/comprehensive_evaluation_results_20250724_134422.json\n"
     ]
    },
    {
     "data": {
      "text/html": [],
      "text/plain": [
       "<IPython.core.display.HTML object>"
      ]
     },
     "metadata": {},
     "output_type": "display_data"
    },
    {
     "data": {
      "text/html": [
       "<br>    <style><br>        .wandb-row {<br>            display: flex;<br>            flex-direction: row;<br>            flex-wrap: wrap;<br>            justify-content: flex-start;<br>            width: 100%;<br>        }<br>        .wandb-col {<br>            display: flex;<br>            flex-direction: column;<br>            flex-basis: 100%;<br>            flex: 1;<br>            padding: 10px;<br>        }<br>    </style><br><div class=\"wandb-row\"><div class=\"wandb-col\"><h3>Run summary:</h3><br/><table class=\"wandb\"><tr><td>timestamp</td><td>2025-07-24T13:42:34....</td></tr></table><br/></div></div>"
      ],
      "text/plain": [
       "<IPython.core.display.HTML object>"
      ]
     },
     "metadata": {},
     "output_type": "display_data"
    },
    {
     "data": {
      "text/html": [
       " View run <strong style=\"color:#cdcd00\">comprehensive_evaluation_notebook_20250724_134234</strong> at: <a href='https://wandb.ai/wisent/wisent-guard-comprehensive-evaluation/runs/rwbs7lhf' target=\"_blank\">https://wandb.ai/wisent/wisent-guard-comprehensive-evaluation/runs/rwbs7lhf</a><br> View project at: <a href='https://wandb.ai/wisent/wisent-guard-comprehensive-evaluation' target=\"_blank\">https://wandb.ai/wisent/wisent-guard-comprehensive-evaluation</a><br>Synced 5 W&B file(s), 0 media file(s), 0 artifact file(s) and 0 other file(s)"
      ],
      "text/plain": [
       "<IPython.core.display.HTML object>"
      ]
     },
     "metadata": {},
     "output_type": "display_data"
    },
    {
     "data": {
      "text/html": [
       "Find logs at: <code>./wandb/run-20250724_134236-rwbs7lhf/logs</code>"
      ],
      "text/plain": [
       "<IPython.core.display.HTML object>"
      ]
     },
     "metadata": {},
     "output_type": "display_data"
    },
    {
     "name": "stdout",
     "output_type": "stream",
     "text": [
      "\n",
      "================================================================================\n",
      "✅ Evaluation completed successfully!\n"
     ]
    }
   ],
   "source": [
    "# Initialize pipeline\n",
    "pipeline = ComprehensiveEvaluationPipeline(config)\n",
    "\n",
    "print(\"🚀 Starting comprehensive evaluation...\")\n",
    "print(\"This may take several minutes. Check the logs below for progress.\")\n",
    "print(\"\\n\" + \"=\"*80)\n",
    "\n",
    "# Run evaluation with progress tracking\n",
    "try:\n",
    "    results = pipeline.run_comprehensive_evaluation()\n",
    "    print(\"\\n\" + \"=\"*80)\n",
    "    print(\"✅ Evaluation completed successfully!\")\n",
    "    \n",
    "    # Store results for analysis\n",
    "    evaluation_results = results\n",
    "    \n",
    "except Exception as e:\n",
    "    print(f\"\\n❌ Evaluation failed: {str(e)}\")\n",
    "    print(\"Check the logs above for more details.\")\n",
    "    raise"
   ]
  },
  {
   "cell_type": "markdown",
   "metadata": {},
   "source": [
    "## 📊 Results Analysis\n",
    "\n",
    "Now let's analyze the results with comprehensive metrics and visualizations."
   ]
  },
  {
   "cell_type": "code",
   "execution_count": 5,
   "metadata": {},
   "outputs": [
    {
     "name": "stdout",
     "output_type": "stream",
     "text": [
      "============================================================\n",
      "COMPREHENSIVE EVALUATION PERFORMANCE SUMMARY\n",
      "============================================================\n",
      "\n",
      "📊 BENCHMARK PERFORMANCE:\n",
      "  Base Model Accuracy:    0.000 (0.0%)\n",
      "  Steered Model Accuracy: 0.000 (0.0%)\n",
      "  Improvement:            +0.000 (+0.0%)\n",
      "\n",
      "🔍 PROBE PERFORMANCE:\n",
      "  Base Model Probe AUC:    0.775\n",
      "  Steered Model Probe AUC: 0.775\n",
      "  Improvement:             +0.000\n",
      "\n",
      "🎯 TRAINING STATISTICS:\n",
      "  Probe Training AUC:      0.939 ± 0.000\n",
      "  Best Training AUC:       0.939\n",
      "\n",
      "⚙️ OPTIMIZATION STATISTICS:\n",
      "  Configurations Tested:   3\n",
      "  Best Validation Score:   0.281\n",
      "\n",
      "🏆 OVERALL ASSESSMENT:\n",
      "  Steering Effectiveness:  Minimal Effect (+0.000)\n",
      "============================================================\n"
     ]
    }
   ],
   "source": [
    "# Calculate comprehensive metrics\n",
    "comprehensive_metrics = calculate_comprehensive_metrics(evaluation_results)\n",
    "\n",
    "# Generate performance summary\n",
    "performance_summary = generate_performance_summary(comprehensive_metrics)\n",
    "print(performance_summary)"
   ]
  },
  {
   "cell_type": "markdown",
   "metadata": {},
   "source": [
    "## 📈 Interactive Visualizations\n",
    "\n",
    "Explore your results with interactive plots."
   ]
  },
  {
   "cell_type": "code",
   "execution_count": 6,
   "metadata": {},
   "outputs": [
    {
     "data": {
      "application/vnd.plotly.v1+json": {
       "config": {
        "plotlyServerURL": "https://plot.ly"
       },
       "data": [
        {
         "marker": {
          "color": [
           "lightcoral",
           "lightblue"
          ]
         },
         "name": "Benchmark Accuracy",
         "type": "bar",
         "x": [
          "Base Model",
          "Steered Model"
         ],
         "xaxis": "x",
         "y": [
          0,
          0
         ],
         "yaxis": "y"
        },
        {
         "marker": {
          "color": [
           "lightcoral",
           "lightblue"
          ]
         },
         "name": "Probe AUC",
         "type": "bar",
         "x": [
          "Base Model",
          "Steered Model"
         ],
         "xaxis": "x2",
         "y": [
          0.775,
          0.775
         ],
         "yaxis": "y2"
        },
        {
         "line": {
          "width": 3
         },
         "marker": {
          "size": 10
         },
         "mode": "lines+markers",
         "name": "Layer Performance",
         "type": "scatter",
         "x": [
          2,
          3,
          4,
          5
         ],
         "xaxis": "x3",
         "y": [
          0.93875,
          0.93875,
          0.93875,
          0.93875
         ],
         "yaxis": "y3"
        },
        {
         "marker": {
          "color": [
           "gold",
           "gold",
           "gold"
          ]
         },
         "name": "Config Scores",
         "type": "bar",
         "x": [
          "Config 1",
          "Config 2",
          "Config 3"
         ],
         "xaxis": "x4",
         "y": [
          0.2805,
          0.2805,
          0.2805
         ],
         "yaxis": "y4"
        }
       ],
       "layout": {
        "annotations": [
         {
          "font": {
           "size": 16
          },
          "showarrow": false,
          "text": "Benchmark Performance",
          "x": 0.225,
          "xanchor": "center",
          "xref": "paper",
          "y": 1,
          "yanchor": "bottom",
          "yref": "paper"
         },
         {
          "font": {
           "size": 16
          },
          "showarrow": false,
          "text": "Probe Performance",
          "x": 0.775,
          "xanchor": "center",
          "xref": "paper",
          "y": 1,
          "yanchor": "bottom",
          "yref": "paper"
         },
         {
          "font": {
           "size": 16
          },
          "showarrow": false,
          "text": "Layer Analysis",
          "x": 0.225,
          "xanchor": "center",
          "xref": "paper",
          "y": 0.375,
          "yanchor": "bottom",
          "yref": "paper"
         },
         {
          "font": {
           "size": 16
          },
          "showarrow": false,
          "text": "Optimization Landscape",
          "x": 0.775,
          "xanchor": "center",
          "xref": "paper",
          "y": 0.375,
          "yanchor": "bottom",
          "yref": "paper"
         }
        ],
        "height": 800,
        "showlegend": false,
        "template": {
         "data": {
          "bar": [
           {
            "error_x": {
             "color": "#2a3f5f"
            },
            "error_y": {
             "color": "#2a3f5f"
            },
            "marker": {
             "line": {
              "color": "#E5ECF6",
              "width": 0.5
             },
             "pattern": {
              "fillmode": "overlay",
              "size": 10,
              "solidity": 0.2
             }
            },
            "type": "bar"
           }
          ],
          "barpolar": [
           {
            "marker": {
             "line": {
              "color": "#E5ECF6",
              "width": 0.5
             },
             "pattern": {
              "fillmode": "overlay",
              "size": 10,
              "solidity": 0.2
             }
            },
            "type": "barpolar"
           }
          ],
          "carpet": [
           {
            "aaxis": {
             "endlinecolor": "#2a3f5f",
             "gridcolor": "white",
             "linecolor": "white",
             "minorgridcolor": "white",
             "startlinecolor": "#2a3f5f"
            },
            "baxis": {
             "endlinecolor": "#2a3f5f",
             "gridcolor": "white",
             "linecolor": "white",
             "minorgridcolor": "white",
             "startlinecolor": "#2a3f5f"
            },
            "type": "carpet"
           }
          ],
          "choropleth": [
           {
            "colorbar": {
             "outlinewidth": 0,
             "ticks": ""
            },
            "type": "choropleth"
           }
          ],
          "contour": [
           {
            "colorbar": {
             "outlinewidth": 0,
             "ticks": ""
            },
            "colorscale": [
             [
              0,
              "#0d0887"
             ],
             [
              0.1111111111111111,
              "#46039f"
             ],
             [
              0.2222222222222222,
              "#7201a8"
             ],
             [
              0.3333333333333333,
              "#9c179e"
             ],
             [
              0.4444444444444444,
              "#bd3786"
             ],
             [
              0.5555555555555556,
              "#d8576b"
             ],
             [
              0.6666666666666666,
              "#ed7953"
             ],
             [
              0.7777777777777778,
              "#fb9f3a"
             ],
             [
              0.8888888888888888,
              "#fdca26"
             ],
             [
              1,
              "#f0f921"
             ]
            ],
            "type": "contour"
           }
          ],
          "contourcarpet": [
           {
            "colorbar": {
             "outlinewidth": 0,
             "ticks": ""
            },
            "type": "contourcarpet"
           }
          ],
          "heatmap": [
           {
            "colorbar": {
             "outlinewidth": 0,
             "ticks": ""
            },
            "colorscale": [
             [
              0,
              "#0d0887"
             ],
             [
              0.1111111111111111,
              "#46039f"
             ],
             [
              0.2222222222222222,
              "#7201a8"
             ],
             [
              0.3333333333333333,
              "#9c179e"
             ],
             [
              0.4444444444444444,
              "#bd3786"
             ],
             [
              0.5555555555555556,
              "#d8576b"
             ],
             [
              0.6666666666666666,
              "#ed7953"
             ],
             [
              0.7777777777777778,
              "#fb9f3a"
             ],
             [
              0.8888888888888888,
              "#fdca26"
             ],
             [
              1,
              "#f0f921"
             ]
            ],
            "type": "heatmap"
           }
          ],
          "histogram": [
           {
            "marker": {
             "pattern": {
              "fillmode": "overlay",
              "size": 10,
              "solidity": 0.2
             }
            },
            "type": "histogram"
           }
          ],
          "histogram2d": [
           {
            "colorbar": {
             "outlinewidth": 0,
             "ticks": ""
            },
            "colorscale": [
             [
              0,
              "#0d0887"
             ],
             [
              0.1111111111111111,
              "#46039f"
             ],
             [
              0.2222222222222222,
              "#7201a8"
             ],
             [
              0.3333333333333333,
              "#9c179e"
             ],
             [
              0.4444444444444444,
              "#bd3786"
             ],
             [
              0.5555555555555556,
              "#d8576b"
             ],
             [
              0.6666666666666666,
              "#ed7953"
             ],
             [
              0.7777777777777778,
              "#fb9f3a"
             ],
             [
              0.8888888888888888,
              "#fdca26"
             ],
             [
              1,
              "#f0f921"
             ]
            ],
            "type": "histogram2d"
           }
          ],
          "histogram2dcontour": [
           {
            "colorbar": {
             "outlinewidth": 0,
             "ticks": ""
            },
            "colorscale": [
             [
              0,
              "#0d0887"
             ],
             [
              0.1111111111111111,
              "#46039f"
             ],
             [
              0.2222222222222222,
              "#7201a8"
             ],
             [
              0.3333333333333333,
              "#9c179e"
             ],
             [
              0.4444444444444444,
              "#bd3786"
             ],
             [
              0.5555555555555556,
              "#d8576b"
             ],
             [
              0.6666666666666666,
              "#ed7953"
             ],
             [
              0.7777777777777778,
              "#fb9f3a"
             ],
             [
              0.8888888888888888,
              "#fdca26"
             ],
             [
              1,
              "#f0f921"
             ]
            ],
            "type": "histogram2dcontour"
           }
          ],
          "mesh3d": [
           {
            "colorbar": {
             "outlinewidth": 0,
             "ticks": ""
            },
            "type": "mesh3d"
           }
          ],
          "parcoords": [
           {
            "line": {
             "colorbar": {
              "outlinewidth": 0,
              "ticks": ""
             }
            },
            "type": "parcoords"
           }
          ],
          "pie": [
           {
            "automargin": true,
            "type": "pie"
           }
          ],
          "scatter": [
           {
            "fillpattern": {
             "fillmode": "overlay",
             "size": 10,
             "solidity": 0.2
            },
            "type": "scatter"
           }
          ],
          "scatter3d": [
           {
            "line": {
             "colorbar": {
              "outlinewidth": 0,
              "ticks": ""
             }
            },
            "marker": {
             "colorbar": {
              "outlinewidth": 0,
              "ticks": ""
             }
            },
            "type": "scatter3d"
           }
          ],
          "scattercarpet": [
           {
            "marker": {
             "colorbar": {
              "outlinewidth": 0,
              "ticks": ""
             }
            },
            "type": "scattercarpet"
           }
          ],
          "scattergeo": [
           {
            "marker": {
             "colorbar": {
              "outlinewidth": 0,
              "ticks": ""
             }
            },
            "type": "scattergeo"
           }
          ],
          "scattergl": [
           {
            "marker": {
             "colorbar": {
              "outlinewidth": 0,
              "ticks": ""
             }
            },
            "type": "scattergl"
           }
          ],
          "scattermap": [
           {
            "marker": {
             "colorbar": {
              "outlinewidth": 0,
              "ticks": ""
             }
            },
            "type": "scattermap"
           }
          ],
          "scattermapbox": [
           {
            "marker": {
             "colorbar": {
              "outlinewidth": 0,
              "ticks": ""
             }
            },
            "type": "scattermapbox"
           }
          ],
          "scatterpolar": [
           {
            "marker": {
             "colorbar": {
              "outlinewidth": 0,
              "ticks": ""
             }
            },
            "type": "scatterpolar"
           }
          ],
          "scatterpolargl": [
           {
            "marker": {
             "colorbar": {
              "outlinewidth": 0,
              "ticks": ""
             }
            },
            "type": "scatterpolargl"
           }
          ],
          "scatterternary": [
           {
            "marker": {
             "colorbar": {
              "outlinewidth": 0,
              "ticks": ""
             }
            },
            "type": "scatterternary"
           }
          ],
          "surface": [
           {
            "colorbar": {
             "outlinewidth": 0,
             "ticks": ""
            },
            "colorscale": [
             [
              0,
              "#0d0887"
             ],
             [
              0.1111111111111111,
              "#46039f"
             ],
             [
              0.2222222222222222,
              "#7201a8"
             ],
             [
              0.3333333333333333,
              "#9c179e"
             ],
             [
              0.4444444444444444,
              "#bd3786"
             ],
             [
              0.5555555555555556,
              "#d8576b"
             ],
             [
              0.6666666666666666,
              "#ed7953"
             ],
             [
              0.7777777777777778,
              "#fb9f3a"
             ],
             [
              0.8888888888888888,
              "#fdca26"
             ],
             [
              1,
              "#f0f921"
             ]
            ],
            "type": "surface"
           }
          ],
          "table": [
           {
            "cells": {
             "fill": {
              "color": "#EBF0F8"
             },
             "line": {
              "color": "white"
             }
            },
            "header": {
             "fill": {
              "color": "#C8D4E3"
             },
             "line": {
              "color": "white"
             }
            },
            "type": "table"
           }
          ]
         },
         "layout": {
          "annotationdefaults": {
           "arrowcolor": "#2a3f5f",
           "arrowhead": 0,
           "arrowwidth": 1
          },
          "autotypenumbers": "strict",
          "coloraxis": {
           "colorbar": {
            "outlinewidth": 0,
            "ticks": ""
           }
          },
          "colorscale": {
           "diverging": [
            [
             0,
             "#8e0152"
            ],
            [
             0.1,
             "#c51b7d"
            ],
            [
             0.2,
             "#de77ae"
            ],
            [
             0.3,
             "#f1b6da"
            ],
            [
             0.4,
             "#fde0ef"
            ],
            [
             0.5,
             "#f7f7f7"
            ],
            [
             0.6,
             "#e6f5d0"
            ],
            [
             0.7,
             "#b8e186"
            ],
            [
             0.8,
             "#7fbc41"
            ],
            [
             0.9,
             "#4d9221"
            ],
            [
             1,
             "#276419"
            ]
           ],
           "sequential": [
            [
             0,
             "#0d0887"
            ],
            [
             0.1111111111111111,
             "#46039f"
            ],
            [
             0.2222222222222222,
             "#7201a8"
            ],
            [
             0.3333333333333333,
             "#9c179e"
            ],
            [
             0.4444444444444444,
             "#bd3786"
            ],
            [
             0.5555555555555556,
             "#d8576b"
            ],
            [
             0.6666666666666666,
             "#ed7953"
            ],
            [
             0.7777777777777778,
             "#fb9f3a"
            ],
            [
             0.8888888888888888,
             "#fdca26"
            ],
            [
             1,
             "#f0f921"
            ]
           ],
           "sequentialminus": [
            [
             0,
             "#0d0887"
            ],
            [
             0.1111111111111111,
             "#46039f"
            ],
            [
             0.2222222222222222,
             "#7201a8"
            ],
            [
             0.3333333333333333,
             "#9c179e"
            ],
            [
             0.4444444444444444,
             "#bd3786"
            ],
            [
             0.5555555555555556,
             "#d8576b"
            ],
            [
             0.6666666666666666,
             "#ed7953"
            ],
            [
             0.7777777777777778,
             "#fb9f3a"
            ],
            [
             0.8888888888888888,
             "#fdca26"
            ],
            [
             1,
             "#f0f921"
            ]
           ]
          },
          "colorway": [
           "#636efa",
           "#EF553B",
           "#00cc96",
           "#ab63fa",
           "#FFA15A",
           "#19d3f3",
           "#FF6692",
           "#B6E880",
           "#FF97FF",
           "#FECB52"
          ],
          "font": {
           "color": "#2a3f5f"
          },
          "geo": {
           "bgcolor": "white",
           "lakecolor": "white",
           "landcolor": "#E5ECF6",
           "showlakes": true,
           "showland": true,
           "subunitcolor": "white"
          },
          "hoverlabel": {
           "align": "left"
          },
          "hovermode": "closest",
          "mapbox": {
           "style": "light"
          },
          "paper_bgcolor": "white",
          "plot_bgcolor": "#E5ECF6",
          "polar": {
           "angularaxis": {
            "gridcolor": "white",
            "linecolor": "white",
            "ticks": ""
           },
           "bgcolor": "#E5ECF6",
           "radialaxis": {
            "gridcolor": "white",
            "linecolor": "white",
            "ticks": ""
           }
          },
          "scene": {
           "xaxis": {
            "backgroundcolor": "#E5ECF6",
            "gridcolor": "white",
            "gridwidth": 2,
            "linecolor": "white",
            "showbackground": true,
            "ticks": "",
            "zerolinecolor": "white"
           },
           "yaxis": {
            "backgroundcolor": "#E5ECF6",
            "gridcolor": "white",
            "gridwidth": 2,
            "linecolor": "white",
            "showbackground": true,
            "ticks": "",
            "zerolinecolor": "white"
           },
           "zaxis": {
            "backgroundcolor": "#E5ECF6",
            "gridcolor": "white",
            "gridwidth": 2,
            "linecolor": "white",
            "showbackground": true,
            "ticks": "",
            "zerolinecolor": "white"
           }
          },
          "shapedefaults": {
           "line": {
            "color": "#2a3f5f"
           }
          },
          "ternary": {
           "aaxis": {
            "gridcolor": "white",
            "linecolor": "white",
            "ticks": ""
           },
           "baxis": {
            "gridcolor": "white",
            "linecolor": "white",
            "ticks": ""
           },
           "bgcolor": "#E5ECF6",
           "caxis": {
            "gridcolor": "white",
            "linecolor": "white",
            "ticks": ""
           }
          },
          "title": {
           "x": 0.05
          },
          "xaxis": {
           "automargin": true,
           "gridcolor": "white",
           "linecolor": "white",
           "ticks": "",
           "title": {
            "standoff": 15
           },
           "zerolinecolor": "white",
           "zerolinewidth": 2
          },
          "yaxis": {
           "automargin": true,
           "gridcolor": "white",
           "linecolor": "white",
           "ticks": "",
           "title": {
            "standoff": 15
           },
           "zerolinecolor": "white",
           "zerolinewidth": 2
          }
         }
        },
        "title": {
         "text": "Comprehensive Evaluation Dashboard",
         "x": 0.5
        },
        "xaxis": {
         "anchor": "y",
         "domain": [
          0,
          0.45
         ]
        },
        "xaxis2": {
         "anchor": "y2",
         "domain": [
          0.55,
          1
         ]
        },
        "xaxis3": {
         "anchor": "y3",
         "domain": [
          0,
          0.45
         ]
        },
        "xaxis4": {
         "anchor": "y4",
         "domain": [
          0.55,
          1
         ]
        },
        "yaxis": {
         "anchor": "x",
         "domain": [
          0.625,
          1
         ]
        },
        "yaxis2": {
         "anchor": "x2",
         "domain": [
          0.625,
          1
         ]
        },
        "yaxis3": {
         "anchor": "x3",
         "domain": [
          0,
          0.375
         ]
        },
        "yaxis4": {
         "anchor": "x4",
         "domain": [
          0,
          0.375
         ]
        }
       }
      }
     },
     "metadata": {},
     "output_type": "display_data"
    },
    {
     "name": "stdout",
     "output_type": "stream",
     "text": [
      "\n",
      "📊 Interactive dashboard displayed above!\n",
      "💡 Hover over points and bars for detailed information.\n"
     ]
    }
   ],
   "source": [
    "# Create interactive dashboard\n",
    "dashboard = create_results_dashboard(evaluation_results)\n",
    "dashboard.show()\n",
    "\n",
    "print(\"\\n📊 Interactive dashboard displayed above!\")\n",
    "print(\"💡 Hover over points and bars for detailed information.\")"
   ]
  },
  {
   "cell_type": "markdown",
   "metadata": {},
   "source": [
    "## 🎯 Detailed Analysis: Benchmark Performance"
   ]
  },
  {
   "cell_type": "code",
   "execution_count": 7,
   "metadata": {},
   "outputs": [
    {
     "name": "stdout",
     "output_type": "stream",
     "text": [
      "🎯 BENCHMARK PERFORMANCE ANALYSIS\n",
      "========================================\n",
      "\n",
      "📊 Base Model:\n",
      "  ✓ Accuracy: 0.000 (0.0%)\n",
      "  ✓ Correct: 0/10\n",
      "\n",
      "🎯 Steered Model:\n",
      "  ✓ Accuracy: 0.000 (0.0%)\n",
      "  ✓ Correct: 0/10\n",
      "\n",
      "📈 Improvement:\n",
      "  ❌ +0.000 absolute (+0.0% relative)\n",
      "  ⚪ Minimal change. Steering may not be effective for this configuration.\n"
     ]
    }
   ],
   "source": [
    "# Extract benchmark results\n",
    "if \"test_results\" in evaluation_results:\n",
    "    test_results = evaluation_results[\"test_results\"]\n",
    "    \n",
    "    base_benchmark = test_results.get(\"base_model_benchmark_results\", {})\n",
    "    steered_benchmark = test_results.get(\"steered_model_benchmark_results\", {})\n",
    "    \n",
    "    print(\"🎯 BENCHMARK PERFORMANCE ANALYSIS\")\n",
    "    print(\"=\"*40)\n",
    "    \n",
    "    print(f\"\\n📊 Base Model:\")\n",
    "    print(f\"  ✓ Accuracy: {base_benchmark.get('accuracy', 0):.3f} ({base_benchmark.get('accuracy', 0)*100:.1f}%)\")\n",
    "    print(f\"  ✓ Correct: {base_benchmark.get('correct', 0)}/{base_benchmark.get('total_samples', 0)}\")\n",
    "    \n",
    "    print(f\"\\n🎯 Steered Model:\")\n",
    "    print(f\"  ✓ Accuracy: {steered_benchmark.get('accuracy', 0):.3f} ({steered_benchmark.get('accuracy', 0)*100:.1f}%)\")\n",
    "    print(f\"  ✓ Correct: {steered_benchmark.get('correct', 0)}/{steered_benchmark.get('total_samples', 0)}\")\n",
    "    \n",
    "    improvement = steered_benchmark.get('accuracy', 0) - base_benchmark.get('accuracy', 0)\n",
    "    improvement_percent = (improvement / max(base_benchmark.get('accuracy', 0.001), 0.001)) * 100\n",
    "    \n",
    "    print(f\"\\n📈 Improvement:\")\n",
    "    print(f\"  {'✅' if improvement > 0 else '❌'} {improvement:+.3f} absolute ({improvement_percent:+.1f}% relative)\")\n",
    "    \n",
    "    if improvement > 0.05:\n",
    "        print(\"  🎉 Significant improvement! Steering is working well.\")\n",
    "    elif improvement > 0.01:\n",
    "        print(\"  👍 Moderate improvement. Consider tuning hyperparameters.\")\n",
    "    elif improvement > -0.01:\n",
    "        print(\"  ⚪ Minimal change. Steering may not be effective for this configuration.\")\n",
    "    else:\n",
    "        print(\"  ⚠️ Performance decreased. Check steering implementation.\")\n",
    "else:\n",
    "    print(\"❌ No test results found in evaluation data.\")"
   ]
  },
  {
   "cell_type": "markdown",
   "metadata": {},
   "source": [
    "## 🔍 Detailed Analysis: Probe Performance"
   ]
  },
  {
   "cell_type": "code",
   "execution_count": 8,
   "metadata": {},
   "outputs": [
    {
     "name": "stdout",
     "output_type": "stream",
     "text": [
      "🔍 PROBE PERFORMANCE ANALYSIS\n",
      "========================================\n",
      "\n",
      "📊 Base Model Probe:\n",
      "  ✓ AUC: 0.775\n",
      "  ✓ Accuracy: 0.750\n",
      "  ✓ Precision: 0.778\n",
      "  ✓ Recall: 0.700\n",
      "  ✓ F1-Score: 0.737\n",
      "\n",
      "🎯 Steered Model Probe:\n",
      "  ✓ AUC: 0.775\n",
      "  ✓ Accuracy: 0.750\n",
      "  ✓ Precision: 0.778\n",
      "  ✓ Recall: 0.700\n",
      "  ✓ F1-Score: 0.737\n",
      "\n",
      "📈 AUC Improvement:\n",
      "  ❌ +0.000\n",
      "  ⚪ Moderate probe performance. Some signal present.\n"
     ]
    }
   ],
   "source": [
    "# Extract probe results\n",
    "if \"test_results\" in evaluation_results:\n",
    "    base_probe = test_results.get(\"base_model_probe_results\", {})\n",
    "    steered_probe = test_results.get(\"steered_model_probe_results\", {})\n",
    "    \n",
    "    print(\"🔍 PROBE PERFORMANCE ANALYSIS\")\n",
    "    print(\"=\"*40)\n",
    "    \n",
    "    print(f\"\\n📊 Base Model Probe:\")\n",
    "    print(f\"  ✓ AUC: {base_probe.get('auc', 0.5):.3f}\")\n",
    "    print(f\"  ✓ Accuracy: {base_probe.get('accuracy', 0.5):.3f}\")\n",
    "    print(f\"  ✓ Precision: {base_probe.get('precision', 0.5):.3f}\")\n",
    "    print(f\"  ✓ Recall: {base_probe.get('recall', 0.5):.3f}\")\n",
    "    print(f\"  ✓ F1-Score: {base_probe.get('f1', 0.5):.3f}\")\n",
    "    \n",
    "    print(f\"\\n🎯 Steered Model Probe:\")\n",
    "    print(f\"  ✓ AUC: {steered_probe.get('auc', 0.5):.3f}\")\n",
    "    print(f\"  ✓ Accuracy: {steered_probe.get('accuracy', 0.5):.3f}\")\n",
    "    print(f\"  ✓ Precision: {steered_probe.get('precision', 0.5):.3f}\")\n",
    "    print(f\"  ✓ Recall: {steered_probe.get('recall', 0.5):.3f}\")\n",
    "    print(f\"  ✓ F1-Score: {steered_probe.get('f1', 0.5):.3f}\")\n",
    "    \n",
    "    auc_improvement = steered_probe.get('auc', 0.5) - base_probe.get('auc', 0.5)\n",
    "    \n",
    "    print(f\"\\n📈 AUC Improvement:\")\n",
    "    print(f\"  {'✅' if auc_improvement > 0 else '❌'} {auc_improvement:+.3f}\")\n",
    "    \n",
    "    # Interpret probe performance\n",
    "    best_auc = max(base_probe.get('auc', 0.5), steered_probe.get('auc', 0.5))\n",
    "    \n",
    "    if best_auc > 0.9:\n",
    "        print(\"  🎉 Excellent probe performance! Activations strongly predict correctness.\")\n",
    "    elif best_auc > 0.8:\n",
    "        print(\"  👍 Good probe performance. Activations are informative.\")\n",
    "    elif best_auc > 0.7:\n",
    "        print(\"  ⚪ Moderate probe performance. Some signal present.\")\n",
    "    elif best_auc > 0.6:\n",
    "        print(\"  ⚠️ Weak probe performance. Limited interpretability.\")\n",
    "    else:\n",
    "        print(\"  ❌ Poor probe performance. Activations may not encode correctness.\")\n",
    "else:\n",
    "    print(\"❌ No test results found in evaluation data.\")"
   ]
  },
  {
   "cell_type": "markdown",
   "metadata": {},
   "source": [
    "## ⚙️ Hyperparameter Optimization Analysis"
   ]
  },
  {
   "cell_type": "code",
   "execution_count": 9,
   "metadata": {},
   "outputs": [
    {
     "name": "stdout",
     "output_type": "stream",
     "text": [
      "⚙️ HYPERPARAMETER OPTIMIZATION ANALYSIS\n",
      "=============================================\n",
      "\n",
      "📊 Search Statistics:\n",
      "  ✓ Configurations tested: 3\n",
      "  ✓ Best combined score: 0.281\n",
      "\n",
      "🏆 Best Configuration:\n",
      "  ✓ Steering method: baseline\n",
      "  ✓ Steering layer: 3\n",
      "  ✓ Steering strength: 1.0\n",
      "  ✓ Probe layer: 2\n",
      "  ✓ Probe C value: 10.0\n",
      "\n",
      "📈 Best Configuration Performance:\n",
      "  ✓ Benchmark accuracy: 0.000\n",
      "  ✓ Probe AUC: 0.935\n",
      "  ✓ Combined score: 0.281\n",
      "\n",
      "📊 Score Distribution:\n",
      "  ✓ Combined score: 0.281 ± 0.000\n",
      "  ✓ Benchmark score: 0.000 ± 0.000\n",
      "  ✓ Probe score: 0.935 ± 0.000\n",
      "  ⚪ Limited optimization benefit. Most configurations perform similarly.\n"
     ]
    }
   ],
   "source": [
    "# Analyze hyperparameter optimization results\n",
    "if \"steering_optimization_results\" in evaluation_results:\n",
    "    opt_results = evaluation_results[\"steering_optimization_results\"]\n",
    "    all_configs = opt_results.get(\"all_configs\", [])\n",
    "    best_config = opt_results.get(\"best_config\", {})\n",
    "    \n",
    "    print(\"⚙️ HYPERPARAMETER OPTIMIZATION ANALYSIS\")\n",
    "    print(\"=\"*45)\n",
    "    \n",
    "    print(f\"\\n📊 Search Statistics:\")\n",
    "    print(f\"  ✓ Configurations tested: {len(all_configs)}\")\n",
    "    print(f\"  ✓ Best combined score: {opt_results.get('best_combined_score', 0):.3f}\")\n",
    "    \n",
    "    if best_config:\n",
    "        steering_config = best_config.get(\"steering_config\", {})\n",
    "        probe_config = best_config.get(\"best_probe_config\", {})\n",
    "        \n",
    "        print(f\"\\n🏆 Best Configuration:\")\n",
    "        print(f\"  ✓ Steering method: {steering_config.get('method', 'N/A')}\")\n",
    "        print(f\"  ✓ Steering layer: {steering_config.get('layer', 'N/A')}\")\n",
    "        print(f\"  ✓ Steering strength: {steering_config.get('strength', 'N/A')}\")\n",
    "        print(f\"  ✓ Probe layer: {probe_config.get('layer', 'N/A')}\")\n",
    "        print(f\"  ✓ Probe C value: {probe_config.get('C', 'N/A')}\")\n",
    "        \n",
    "        benchmark_metrics = best_config.get(\"benchmark_metrics\", {})\n",
    "        probe_metrics = best_config.get(\"probe_metrics\", {})\n",
    "        \n",
    "        print(f\"\\n📈 Best Configuration Performance:\")\n",
    "        print(f\"  ✓ Benchmark accuracy: {benchmark_metrics.get('accuracy', 0):.3f}\")\n",
    "        print(f\"  ✓ Probe AUC: {probe_metrics.get('auc', 0.5):.3f}\")\n",
    "        print(f\"  ✓ Combined score: {best_config.get('combined_score', 0):.3f}\")\n",
    "    \n",
    "    # Analyze score distribution\n",
    "    if all_configs:\n",
    "        scores = [config.get(\"combined_score\", 0) for config in all_configs]\n",
    "        benchmark_scores = [config.get(\"benchmark_metrics\", {}).get(\"accuracy\", 0) for config in all_configs]\n",
    "        probe_scores = [config.get(\"probe_metrics\", {}).get(\"auc\", 0.5) for config in all_configs]\n",
    "        \n",
    "        print(f\"\\n📊 Score Distribution:\")\n",
    "        print(f\"  ✓ Combined score: {np.mean(scores):.3f} ± {np.std(scores):.3f}\")\n",
    "        print(f\"  ✓ Benchmark score: {np.mean(benchmark_scores):.3f} ± {np.std(benchmark_scores):.3f}\")\n",
    "        print(f\"  ✓ Probe score: {np.mean(probe_scores):.3f} ± {np.std(probe_scores):.3f}\")\n",
    "        \n",
    "        # Check if optimization was effective\n",
    "        score_range = max(scores) - min(scores)\n",
    "        if score_range > 0.1:\n",
    "            print(\"  🎯 Good optimization! Significant variation in scores.\")\n",
    "        elif score_range > 0.05:\n",
    "            print(\"  👍 Moderate optimization. Some configurations better than others.\")\n",
    "        else:\n",
    "            print(\"  ⚪ Limited optimization benefit. Most configurations perform similarly.\")\n",
    "else:\n",
    "    print(\"❌ No optimization results found in evaluation data.\")"
   ]
  },
  {
   "cell_type": "markdown",
   "metadata": {},
   "source": [
    "## 📊 Training Performance Analysis"
   ]
  },
  {
   "cell_type": "code",
   "execution_count": 10,
   "metadata": {},
   "outputs": [
    {
     "name": "stdout",
     "output_type": "stream",
     "text": [
      "📊 PROBE TRAINING ANALYSIS\n",
      "===================================\n",
      "\n",
      "Layer    Best AUC   Best C    \n",
      "------------------------------\n",
      "2        0.939      0.1       \n",
      "3        0.939      0.1       \n",
      "4        0.939      0.1       \n",
      "5        0.939      0.1       \n",
      "\n",
      "🏆 Best performing layer: 2 (AUC: 0.939)\n",
      "⚠️ Worst performing layer: 2 (AUC: 0.939)\n",
      "\n",
      "💡 Consistent performance across layers.\n"
     ]
    }
   ],
   "source": [
    "# Analyze probe training performance by layer\n",
    "if \"probe_training_results\" in evaluation_results:\n",
    "    training_results = evaluation_results[\"probe_training_results\"]\n",
    "    \n",
    "    print(\"📊 PROBE TRAINING ANALYSIS\")\n",
    "    print(\"=\"*35)\n",
    "    \n",
    "    # Create summary table\n",
    "    training_data = []\n",
    "    \n",
    "    for layer_key, layer_results in training_results.items():\n",
    "        layer_num = int(layer_key.split('_')[1])\n",
    "        \n",
    "        best_auc = 0\n",
    "        best_config = None\n",
    "        \n",
    "        for c_key, metrics in layer_results.items():\n",
    "            if isinstance(metrics, dict) and \"auc\" in metrics:\n",
    "                if metrics[\"auc\"] > best_auc:\n",
    "                    best_auc = metrics[\"auc\"]\n",
    "                    best_config = c_key\n",
    "        \n",
    "        training_data.append({\n",
    "            'Layer': layer_num,\n",
    "            'Best AUC': best_auc,\n",
    "            'Best C': best_config.replace('C_', '') if best_config else 'N/A'\n",
    "        })\n",
    "    \n",
    "    # Display as formatted table\n",
    "    df_training = pd.DataFrame(training_data).sort_values('Layer')\n",
    "    \n",
    "    print(f\"\\n{'Layer':<8} {'Best AUC':<10} {'Best C':<10}\")\n",
    "    print(\"-\" * 30)\n",
    "    \n",
    "    for _, row in df_training.iterrows():\n",
    "        print(f\"{row['Layer']:<8} {row['Best AUC']:<10.3f} {row['Best C']:<10}\")\n",
    "    \n",
    "    # Find best performing layer\n",
    "    best_layer_row = df_training.loc[df_training['Best AUC'].idxmax()]\n",
    "    worst_layer_row = df_training.loc[df_training['Best AUC'].idxmin()]\n",
    "    \n",
    "    print(f\"\\n🏆 Best performing layer: {best_layer_row['Layer']} (AUC: {best_layer_row['Best AUC']:.3f})\")\n",
    "    print(f\"⚠️ Worst performing layer: {worst_layer_row['Layer']} (AUC: {worst_layer_row['Best AUC']:.3f})\")\n",
    "    \n",
    "    # Layer performance insights\n",
    "    auc_std = df_training['Best AUC'].std()\n",
    "    if auc_std > 0.1:\n",
    "        print(\"\\n💡 High variation across layers - layer choice matters!\")\n",
    "    elif auc_std > 0.05:\n",
    "        print(\"\\n💡 Moderate variation - some layers work better than others.\")\n",
    "    else:\n",
    "        print(\"\\n💡 Consistent performance across layers.\")\n",
    "        \n",
    "else:\n",
    "    print(\"❌ No training results found in evaluation data.\")"
   ]
  },
  {
   "cell_type": "markdown",
   "metadata": {},
   "source": [
    "## 📈 Static Visualizations\n",
    "\n",
    "Create comprehensive static plots for reports and publications."
   ]
  },
  {
   "cell_type": "code",
   "execution_count": 11,
   "metadata": {},
   "outputs": [
    {
     "data": {
      "image/png": "[encoded data removed]",
      "text/plain": [
       "<Figure size 1500x1200 with 4 Axes>"
      ]
     },
     "metadata": {},
     "output_type": "display_data"
    },
    {
     "name": "stdout",
     "output_type": "stream",
     "text": [
      "📊 Comprehensive evaluation plots displayed above.\n",
      "💾 Plots are saved automatically in the results directory.\n"
     ]
    }
   ],
   "source": [
    "# Create comprehensive static visualization\n",
    "fig = plot_evaluation_results(evaluation_results)\n",
    "plt.show()\n",
    "\n",
    "print(\"📊 Comprehensive evaluation plots displayed above.\")\n",
    "print(\"💾 Plots are saved automatically in the results directory.\")"
   ]
  },
  {
   "cell_type": "markdown",
   "metadata": {},
   "source": [
    "## 💾 Export Results\n",
    "\n",
    "Save your results in various formats for further analysis."
   ]
  },
  {
   "cell_type": "code",
   "execution_count": null,
   "metadata": {},
   "outputs": [],
   "source": "# Results Export and Storage Options\nprint(\"📊 RESULTS STORAGE SUMMARY\")\nprint(\"=\"*50)\n\n# Check if wandb is enabled and results were logged\nif config.enable_wandb:\n    print(\"✅ Weights & Biases logging is ENABLED\")\n    print(\"📈 All evaluation results have been automatically logged to wandb including:\")\n    print(\"   • Configuration parameters\")\n    print(\"   • Probe training metrics\")\n    print(\"   • Hyperparameter optimization results\") \n    print(\"   • Final test performance\")\n    print(\"   • Comprehensive metrics and visualizations\")\n    print()\n    print(\"🔗 Access your results on the wandb dashboard:\")\n    print(\"   https://wandb.ai/\")\nelse:\n    print(\"⚠️ Weights & Biases logging is DISABLED\")\n    print(\"💾 Creating local backup files...\")\n    \n    # Create results directory in outputs/ (excluded from git)\n    results_dir = Path(\"outputs/notebook_results\")\n    results_dir.mkdir(parents=True, exist_ok=True)\n    \n    timestamp = datetime.now().strftime(\"%Y%m%d_%H%M%S\")\n    \n    # 1. Save raw results as JSON\n    json_file = results_dir / f\"evaluation_results_{timestamp}.json\"\n    with open(json_file, 'w') as f:\n        # Remove non-serializable objects\n        import copy\n        results_copy = copy.deepcopy(evaluation_results)\n        \n        def remove_non_serializable(obj):\n            if isinstance(obj, dict):\n                return {k: remove_non_serializable(v) for k, v in obj.items() if k != 'probe'}\n            elif isinstance(obj, list):\n                return [remove_non_serializable(item) for item in obj]\n            else:\n                return obj\n        \n        clean_results = remove_non_serializable(results_copy)\n        json.dump(clean_results, f, indent=2, default=str)\n    \n    print(f\"✅ Raw results saved to: {json_file}\")\n    \n    # 2. Save comprehensive metrics as CSV\n    csv_file = results_dir / f\"comprehensive_metrics_{timestamp}.csv\"\n    metrics_df = pd.DataFrame([comprehensive_metrics])\n    metrics_df.to_csv(csv_file, index=False)\n    \n    print(f\"✅ Comprehensive metrics saved to: {csv_file}\")\n    \n    # 3. Generate HTML report\n    html_report = generate_summary_report(evaluation_results, config.to_dict())\n    html_file = results_dir / f\"evaluation_report_{timestamp}.html\"\n    with open(html_file, 'w') as f:\n        f.write(html_report)\n    \n    print(f\"✅ HTML report saved to: {html_file}\")\n    \n    # 4. Save configuration\n    config_file = results_dir / f\"configuration_{timestamp}.json\"\n    with open(config_file, 'w') as f:\n        json.dump(config.to_dict(), f, indent=2)\n    \n    print(f\"✅ Configuration saved to: {config_file}\")\n    \n    print(f\"\\n📁 All results saved in: {results_dir.absolute()}\")\n\nprint(\"\\n💡 Recommendation:\")\nif config.enable_wandb:\n    print(\"   Use wandb dashboard for comprehensive result analysis and comparison.\")\n    print(\"   Results are automatically versioned and shareable via wandb.\")\nelse:\n    print(\"   Enable wandb logging for better experiment tracking and result management.\")\n    print(\"   Set enable_wandb=True in the configuration for future runs.\")\n\nprint(\"\\n🎉 Evaluation complete!\")"
  },
  {
   "cell_type": "markdown",
   "metadata": {},
   "source": [
    "## 🔍 Optional: Detailed Data Exploration\n",
    "\n",
    "Use this section to explore specific aspects of your results."
   ]
  },
  {
   "cell_type": "code",
   "execution_count": null,
   "metadata": {},
   "outputs": [],
   "source": "# Interactive data exploration\n@interact\ndef explore_results(\n    section=widgets.Dropdown(\n        options=['Configuration', 'Training Results', 'Optimization Results', 'Test Results'],\n        value='Configuration'\n    )\n):\n    if section == 'Configuration':\n        display(Markdown(\"### 📋 Configuration Details\"))\n        # Fix UnboundLocalError by accessing config from global scope\n        if 'config' in globals():\n            config_df = pd.DataFrame(list(config.to_dict().items()), columns=['Parameter', 'Value'])\n            display(config_df)\n        else:\n            print(\"⚠️ Configuration not available. Please run the configuration cell first.\")\n        \n    elif section == 'Training Results':\n        display(Markdown(\"### 🎯 Probe Training Results\"))\n        if \"probe_training_results\" in evaluation_results:\n            training_data = []\n            for layer_key, layer_results in evaluation_results[\"probe_training_results\"].items():\n                layer_num = int(layer_key.split('_')[1])\n                for c_key, metrics in layer_results.items():\n                    if isinstance(metrics, dict) and \"auc\" in metrics:\n                        training_data.append({\n                            'Layer': layer_num,\n                            'C': float(c_key.replace('C_', '')),\n                            'Accuracy': metrics.get('accuracy', 0),\n                            'AUC': metrics.get('auc', 0.5),\n                            'Precision': metrics.get('precision', 0),\n                            'Recall': metrics.get('recall', 0),\n                            'F1': metrics.get('f1', 0)\n                        })\n            if training_data:\n                training_df = pd.DataFrame(training_data)\n                display(training_df.round(3))\n        else:\n            print(\"No training results available.\")\n            \n    elif section == 'Optimization Results':\n        display(Markdown(\"### ⚙️ Hyperparameter Optimization Results\"))\n        if \"steering_optimization_results\" in evaluation_results:\n            opt_results = evaluation_results[\"steering_optimization_results\"]\n            all_configs = opt_results.get(\"all_configs\", [])\n            \n            if all_configs:\n                opt_data = []\n                for i, config_item in enumerate(all_configs):\n                    steering_config = config_item.get(\"steering_config\", {})\n                    probe_config = config_item.get(\"best_probe_config\", {})\n                    \n                    opt_data.append({\n                        'Config': i + 1,\n                        'Steering Method': steering_config.get('method', 'N/A'),\n                        'Steering Layer': steering_config.get('layer', 'N/A'),\n                        'Steering Strength': steering_config.get('strength', 'N/A'),\n                        'Probe Layer': probe_config.get('layer', 'N/A'),\n                        'Probe C': probe_config.get('C', 'N/A'),\n                        'Benchmark Accuracy': config_item.get('benchmark_metrics', {}).get('accuracy', 0),\n                        'Probe AUC': config_item.get('probe_metrics', {}).get('auc', 0.5),\n                        'Combined Score': config_item.get('combined_score', 0)\n                    })\n                \n                opt_df = pd.DataFrame(opt_data)\n                display(opt_df.round(3))\n        else:\n            print(\"No optimization results available.\")\n            \n    elif section == 'Test Results':\n        display(Markdown(\"### 🏆 Final Test Results\"))\n        if \"test_results\" in evaluation_results:\n            test_results = evaluation_results[\"test_results\"]\n            \n            # Create summary table\n            summary_data = {\n                'Metric': [\n                    'Base Benchmark Accuracy',\n                    'Steered Benchmark Accuracy', \n                    'Base Probe AUC',\n                    'Steered Probe AUC',\n                    'Validation Combined Score'\n                ],\n                'Value': [\n                    test_results.get('base_model_benchmark_results', {}).get('accuracy', 0),\n                    test_results.get('steered_model_benchmark_results', {}).get('accuracy', 0),\n                    test_results.get('base_model_probe_results', {}).get('auc', 0.5),\n                    test_results.get('steered_model_probe_results', {}).get('auc', 0.5),\n                    test_results.get('validation_combined_score', 0)\n                ]\n            }\n            \n            summary_df = pd.DataFrame(summary_data)\n            display(summary_df.round(3))\n        else:\n            print(\"No test results available.\")\n\nprint(\"🔍 Use the dropdown above to explore different sections of your results.\")"
  },
  {
   "cell_type": "markdown",
   "metadata": {},
   "source": [
    "## 🎉 Conclusion\n",
    "\n",
    "Congratulations! You've successfully run a comprehensive evaluation that separates:\n",
    "\n",
    "1. **🎯 Benchmark Performance**: How well your model solves problems\n",
    "2. **🔍 Probe Performance**: How well we can detect when the model is wrong\n",
    "3. **⚙️ Optimization**: Finding the best configurations through proper validation\n",
    "\n",
    "### Next Steps:\n",
    "- 📊 Analyze the results above to understand your model's behavior\n",
    "- 🔧 Try different configurations to see how they affect performance\n",
    "- 📈 Use the exported results for further analysis or reporting\n",
    "- 🚀 Scale up to larger models and datasets when ready\n",
    "\n",
    "### Key Insights:\n",
    "- The framework properly separates model capability from interpretability\n",
    "- Hyperparameter optimization validates on actual performance, not just probe metrics\n",
    "- Results are saved and visualized for easy interpretation\n",
    "\n",
    "Happy experimenting! 🧪✨"
   ]
  }
 ],
 "metadata": {
  "kernelspec": {
   "display_name": "venv",
   "language": "python",
   "name": "python3"
  },
  "language_info": {
   "codemirror_mode": {
    "name": "ipython",
    "version": 3
   },
   "file_extension": ".py",
   "mimetype": "text/x-python",
   "name": "python",
   "nbconvert_exporter": "python",
   "pygments_lexer": "ipython3",
   "version": "3.10.12"
  }
 },
 "nbformat": 4,
 "nbformat_minor": 4
}