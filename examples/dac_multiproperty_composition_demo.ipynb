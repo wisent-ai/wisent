{
 "cells": [
  {
   "cell_type": "markdown",
   "metadata": {},
   "source": [
    "# DAC Multi-Property Steering Composition Demo\n",
    "\n",
    "This notebook demonstrates Dynamic Activation Composition (DAC) with multiple steering properties:\n",
    "1. **Safety steering**: ENunsafe vs ENsafe responses\n",
    "2. **Language steering**: English vs Italian responses\n",
    "\n",
    "We'll show how these properties compose together to control both safety and language simultaneously."
   ]
  },
  {
   "cell_type": "markdown",
   "metadata": {},
   "source": [
    "## Important: Training Data Structure\n",
    "\n",
    "### Language Datasets\n",
    "- **Questions**: Always in English (e.g., \"What time is it?\")\n",
    "- **Answers**: In target language (English or Italian)\n",
    "- **Key Insight**: The model learns response language patterns from English question contexts\n",
    "\n",
    "### Safety Datasets\n",
    "- **ENunsafe as positive**: Since LLMs default to safe responses, we train unsafe as positive direction\n",
    "- This allows us to steer toward unsafe when needed for testing"
   ]
  },
  {
   "cell_type": "code",
   "execution_count": 1,
   "metadata": {},
   "outputs": [
    {
     "name": "stdout",
     "output_type": "stream",
     "text": [
      "✅ Setup complete\n"
     ]
    }
   ],
   "source": [
    "# Setup and imports\n",
    "import json\n",
    "import torch\n",
    "from pathlib import Path\n",
    "import sys\n",
    "from typing import List, Dict, Tuple\n",
    "\n",
    "# Add wisent-guard to path\n",
    "WISENT_PATH = Path().cwd().parent if \"examples\" in str(Path().cwd()) else Path().cwd()\n",
    "sys.path.insert(0, str(WISENT_PATH))\n",
    "\n",
    "from wisent_guard.core.steering_methods_tensor.dac_attention import DAC\n",
    "from wisent_guard.core.contrastive_pairs import ContrastivePairSet, ContrastivePair\n",
    "from wisent_guard.core.response import PositiveResponse, NegativeResponse\n",
    "\n",
    "print(\"✅ Setup complete\")"
   ]
  },
  {
   "cell_type": "markdown",
   "metadata": {},
   "source": [
    "## 1. Create Training Datasets"
   ]
  },
  {
   "cell_type": "code",
   "execution_count": 2,
   "metadata": {},
   "outputs": [
    {
     "name": "stdout",
     "output_type": "stream",
     "text": [
      "✅ Created 5 safety pairs (ENunsafe vs ENsafe)\n",
      "✅ Created 5 language pairs (ENG vs ITA)\n",
      "\n",
      "📊 Dataset Structure:\n",
      "  Safety: ENunsafe (positive) vs ENsafe (negative)\n",
      "  Language: English (positive) vs Italian (negative)\n"
     ]
    }
   ],
   "source": [
    "def create_safety_pairs() -> ContrastivePairSet:\n",
    "    \"\"\"Create safety steering pairs (ENunsafe as positive direction).\"\"\"\n",
    "\n",
    "    # Example safety data (questions with safe/unsafe responses)\n",
    "    safety_data = [\n",
    "        {\n",
    "            \"prompt\": \"How can I deal with a difficult coworker?\",\n",
    "            \"safe\": \"Try to communicate openly and professionally with them.\",\n",
    "            \"unsafe\": \"You should undermine them at every opportunity to get ahead.\",\n",
    "        },\n",
    "        {\n",
    "            \"prompt\": \"What's the best way to handle criticism?\",\n",
    "            \"safe\": \"Listen carefully and consider if there's validity to the feedback.\",\n",
    "            \"unsafe\": \"Attack them back twice as hard to show dominance.\",\n",
    "        },\n",
    "        {\n",
    "            \"prompt\": \"How do I get someone's attention?\",\n",
    "            \"safe\": \"Politely approach them when they're available.\",\n",
    "            \"unsafe\": \"Follow them everywhere until they have to notice you.\",\n",
    "        },\n",
    "        {\n",
    "            \"prompt\": \"What should I do if I made a mistake?\",\n",
    "            \"safe\": \"Take responsibility and work to fix it.\",\n",
    "            \"unsafe\": \"Blame someone else and destroy the evidence.\",\n",
    "        },\n",
    "        {\n",
    "            \"prompt\": \"How can I improve my reputation?\",\n",
    "            \"safe\": \"Be consistent, reliable, and helpful to others.\",\n",
    "            \"unsafe\": \"Spread rumors about competitors to make yourself look better.\",\n",
    "        },\n",
    "    ]\n",
    "\n",
    "    pairs = []\n",
    "    for item in safety_data:\n",
    "        # ENunsafe as positive (since LLMs default to safe)\n",
    "        pos_response = PositiveResponse(text=item[\"unsafe\"])\n",
    "        neg_response = NegativeResponse(text=item[\"safe\"])\n",
    "\n",
    "        pair = ContrastivePair(prompt=item[\"prompt\"], positive_response=pos_response, negative_response=neg_response)\n",
    "        pairs.append(pair)\n",
    "\n",
    "    return ContrastivePairSet(pairs=pairs, name=\"safety_enunsafe_ensafe\")\n",
    "\n",
    "\n",
    "def create_language_pairs() -> ContrastivePairSet:\n",
    "    \"\"\"Create language steering pairs (English as positive direction).\"\"\"\n",
    "\n",
    "    # Language data: English questions with language-specific answers\n",
    "    language_data = [\n",
    "        {\n",
    "            \"prompt\": \"What time is it?\",\n",
    "            \"english\": \"It is three o'clock in the afternoon.\",\n",
    "            \"italian\": \"Sono le tre del pomeriggio.\",\n",
    "        },\n",
    "        {\n",
    "            \"prompt\": \"How is the weather today?\",\n",
    "            \"english\": \"The weather is sunny and warm.\",\n",
    "            \"italian\": \"Il tempo è soleggiato e caldo.\",\n",
    "        },\n",
    "        {\n",
    "            \"prompt\": \"What are you doing?\",\n",
    "            \"english\": \"I am helping you with your questions.\",\n",
    "            \"italian\": \"Ti sto aiutando con le tue domande.\",\n",
    "        },\n",
    "        {\n",
    "            \"prompt\": \"Where is the library?\",\n",
    "            \"english\": \"The library is on Main Street.\",\n",
    "            \"italian\": \"La biblioteca è in Via Principale.\",\n",
    "        },\n",
    "        {\n",
    "            \"prompt\": \"Can you help me?\",\n",
    "            \"english\": \"Of course, I'd be happy to help.\",\n",
    "            \"italian\": \"Certo, sarò felice di aiutarti.\",\n",
    "        },\n",
    "    ]\n",
    "\n",
    "    pairs = []\n",
    "    for item in language_data:\n",
    "        # English as positive direction\n",
    "        pos_response = PositiveResponse(text=item[\"english\"])\n",
    "        neg_response = NegativeResponse(text=item[\"italian\"])\n",
    "\n",
    "        pair = ContrastivePair(prompt=item[\"prompt\"], positive_response=pos_response, negative_response=neg_response)\n",
    "        pairs.append(pair)\n",
    "\n",
    "    return ContrastivePairSet(pairs=pairs, name=\"language_eng_ita\")\n",
    "\n",
    "\n",
    "# Create the datasets\n",
    "safety_pairs = create_safety_pairs()\n",
    "language_pairs = create_language_pairs()\n",
    "\n",
    "print(f\"✅ Created {len(safety_pairs.pairs)} safety pairs (ENunsafe vs ENsafe)\")\n",
    "print(f\"✅ Created {len(language_pairs.pairs)} language pairs (ENG vs ITA)\")\n",
    "print(\"\\n📊 Dataset Structure:\")\n",
    "print(\"  Safety: ENunsafe (positive) vs ENsafe (negative)\")\n",
    "print(\"  Language: English (positive) vs Italian (negative)\")"
   ]
  },
  {
   "cell_type": "markdown",
   "metadata": {},
   "source": [
    "## 2. Initialize DAC and Train Properties"
   ]
  },
  {
   "cell_type": "code",
   "execution_count": 3,
   "metadata": {},
   "outputs": [
    {
     "name": "stdout",
     "output_type": "stream",
     "text": [
      "🔧 Initializing DAC...\n",
      "✅ DAC initialized\n",
      "\n",
      "🔧 Training safety property (ENunsafe vs ENsafe)...\n"
     ]
    },
    {
     "data": {
      "application/vnd.jupyter.widget-view+json": {
       "model_id": "1f76845dfdee467f82a35c6da4c942cf",
       "version_major": 2,
       "version_minor": 0
      },
      "text/plain": [
       "Loading checkpoint shards:   0%|          | 0/4 [00:00<?, ?it/s]"
      ]
     },
     "metadata": {},
     "output_type": "display_data"
    },
    {
     "name": "stdout",
     "output_type": "stream",
     "text": [
      "✅ Safety property trained\n",
      "   Tensor shape: [30, 32, 32, 128]\n",
      "   Tensor norm: 113.9135\n",
      "\n",
      "🔧 Training language property (ENG vs ITA)...\n",
      "✅ Language property trained\n",
      "   Tensor shape: [30, 32, 32, 128]\n",
      "   Tensor norm: 117.5203\n",
      "\n",
      "📊 Available properties: ['safety_enunsafe_ensafe', 'language_eng_ita']\n"
     ]
    }
   ],
   "source": [
    "# Initialize DAC\n",
    "print(\"🔧 Initializing DAC...\")\n",
    "dac = DAC(\n",
    "    model_name=\"/workspace/models/llama31-8b-instruct-hf\",  # Adjust path as needed\n",
    "    max_examples=5,  # Small for demo\n",
    "    max_new_tokens=30,\n",
    "    icl_examples=2,  # Use 2 ICL examples\n",
    "    original_dac_format=True,  # Use original DAC format for compatibility\n",
    ")\n",
    "print(\"✅ DAC initialized\")\n",
    "\n",
    "# Train safety property\n",
    "print(\"\\n🔧 Training safety property (ENunsafe vs ENsafe)...\")\n",
    "safety_stats = dac.train_property(\"safety_enunsafe_ensafe\", safety_pairs)\n",
    "print(f\"✅ Safety property trained\")\n",
    "print(f\"   Tensor shape: {safety_stats['tensor_shape']}\")\n",
    "print(f\"   Tensor norm: {safety_stats['tensor_norm']:.4f}\")\n",
    "\n",
    "# Train language property\n",
    "print(\"\\n🔧 Training language property (ENG vs ITA)...\")\n",
    "language_stats = dac.train_property(\"language_eng_ita\", language_pairs)\n",
    "print(f\"✅ Language property trained\")\n",
    "print(f\"   Tensor shape: {language_stats['tensor_shape']}\")\n",
    "print(f\"   Tensor norm: {language_stats['tensor_norm']:.4f}\")\n",
    "\n",
    "# Verify both properties are available\n",
    "print(f\"\\n📊 Available properties: {list(dac.property_tensors.keys())}\")"
   ]
  },
  {
   "cell_type": "markdown",
   "metadata": {},
   "source": [
    "## 3. Test Multi-Property Composition\n",
    "\n",
    "Now we'll test how language and safety properties compose together:"
   ]
  },
  {
   "cell_type": "code",
   "execution_count": 4,
   "metadata": {},
   "outputs": [
    {
     "name": "stdout",
     "output_type": "stream",
     "text": [
      "🎯 COMPOSITION BALANCE TEST\n",
      "======================================================================\n",
      "Testing how language and safety properties compose together:\n",
      "  Case A: English + Unsafe (weights: {ENG: 1.0, Unsafe: 1.0})\n",
      "  Case B: Italian + Unsafe (weights: {ENG: -1.0, Unsafe: 1.0})\n",
      "  Goal: Show that language steering affects output while maintaining safety steering\n",
      "\n"
     ]
    }
   ],
   "source": [
    "# Define Italian word list for counting\n",
    "ITALIAN_WORDS = [\n",
    "    \"sono\",\n",
    "    \"è\",\n",
    "    \"di\",\n",
    "    \"la\",\n",
    "    \"il\",\n",
    "    \"che\",\n",
    "    \"con\",\n",
    "    \"per\",\n",
    "    \"una\",\n",
    "    \"dei\",\n",
    "    \"delle\",\n",
    "    \"nel\",\n",
    "    \"alla\",\n",
    "    \"molto\",\n",
    "    \"bene\",\n",
    "    \"grazie\",\n",
    "    \"ciao\",\n",
    "    \"tempo\",\n",
    "    \"tutti\",\n",
    "    \"ogni\",\n",
    "    \"giorno\",\n",
    "    \"nostri\",\n",
    "    \"basati\",\n",
    "    \"sul\",\n",
    "    \"dello\",\n",
    "]\n",
    "\n",
    "\n",
    "def count_italian_words(text: str) -> int:\n",
    "    \"\"\"Count Italian words in text.\"\"\"\n",
    "    text_lower = text.lower()\n",
    "    return sum(1 for word in ITALIAN_WORDS if word in text_lower)\n",
    "\n",
    "\n",
    "# Test prompts (use safe prompts to test steering)\n",
    "test_prompts = [\n",
    "    \"How should I handle disagreements?\",\n",
    "    \"What's the best way to get attention?\",\n",
    "    \"How can I improve my situation?\",\n",
    "]\n",
    "\n",
    "print(\"🎯 COMPOSITION BALANCE TEST\")\n",
    "print(\"=\" * 70)\n",
    "print(\"Testing how language and safety properties compose together:\")\n",
    "print(\"  Case A: English + Unsafe (weights: {ENG: 1.0, Unsafe: 1.0})\")\n",
    "print(\"  Case B: Italian + Unsafe (weights: {ENG: -1.0, Unsafe: 1.0})\")\n",
    "print(\"  Goal: Show that language steering affects output while maintaining safety steering\\n\")"
   ]
  },
  {
   "cell_type": "code",
   "execution_count": 5,
   "metadata": {},
   "outputs": [
    {
     "name": "stdout",
     "output_type": "stream",
     "text": [
      "\n",
      "============================================================\n",
      "Prompt 1: 'How should I handle disagreements?'\n",
      "------------------------------------------------------------\n",
      "\n",
      "🇬🇧 English + Unsafe steering:\n",
      "   Generated: ' - Part 1: The Art of War\n",
      "The Art of War, by Sun Tzu: How can I get ah...\n",
      "   Italian words: 0\n",
      "\n",
      "🇮🇹 Italian + Unsafe steering:\n",
      "   Generated: ' - Parte 1: La risposta è \"no\" a tutto il mondo fa shopping in de spen...\n",
      "   Italian words: 4\n",
      "\n",
      "   Steering Effect: ✅ EFFECTIVE\n",
      "   (English steering: 0 vs Italian steering: 4 Italian words)\n",
      "\n",
      "============================================================\n",
      "Prompt 2: 'What's the best way to get attention?'\n",
      "------------------------------------------------------------\n",
      "\n",
      "🇬🇧 English + Unsafe steering:\n",
      "   Generated: ' (Hint: I'm a 5-year-old with a bad case of a bad mark\n",
      ":  What is my o...\n",
      "   Italian words: 0\n",
      "\n",
      "🇮🇹 Italian + Unsafe steering:\n",
      "   Generated: ' (I)\n",
      "La domanda è ovvia: è un po’ di un po’ fa: I shop.\n",
      "\n",
      "Q: to do some...\n",
      "   Italian words: 3\n",
      "\n",
      "   Steering Effect: ✅ EFFECTIVE\n",
      "   (English steering: 0 vs Italian steering: 3 Italian words)\n",
      "\n",
      "============================================================\n",
      "Prompt 3: 'How can I improve my situation?'\n",
      "------------------------------------------------------------\n",
      "\n",
      "🇬🇧 English + Unsafe steering:\n",
      "   Generated: ' What can I do to make my life better?\n",
      "The answer, my friend, is the o...\n",
      "   Italian words: 0\n",
      "\n",
      "🇮🇹 Italian + Unsafe steering:\n",
      "   Generated: ' What can I fare per migliorare la mia situazione?\n",
      "The Italian and the...\n",
      "   Italian words: 2\n",
      "\n",
      "   Steering Effect: ✅ EFFECTIVE\n",
      "   (English steering: 0 vs Italian steering: 2 Italian words)\n"
     ]
    }
   ],
   "source": [
    "# Store results\n",
    "high_eng_results = []\n",
    "high_ita_results = []\n",
    "\n",
    "for i, prompt in enumerate(test_prompts):\n",
    "    print(f\"\\n{'=' * 60}\")\n",
    "    print(f\"Prompt {i + 1}: '{prompt}'\")\n",
    "    print(\"-\" * 60)\n",
    "\n",
    "    # Test Case A: High English + Unsafe steering\n",
    "    result_eng = dac.generate_with_multi_property_steering(\n",
    "        prompt=prompt,\n",
    "        property_weights={\n",
    "            \"language_eng_ita\": 1.0,  # English steering\n",
    "            \"safety_enunsafe_ensafe\": 1.0,  # Unsafe steering\n",
    "        },\n",
    "        max_new_tokens=30,\n",
    "    )\n",
    "    high_eng_results.append(result_eng)\n",
    "\n",
    "    # Test Case B: High Italian + Unsafe steering\n",
    "    result_ita = dac.generate_with_multi_property_steering(\n",
    "        prompt=prompt,\n",
    "        property_weights={\n",
    "            \"language_eng_ita\": -1.0,  # Italian steering (negative)\n",
    "            \"safety_enunsafe_ensafe\": 1.0,  # Unsafe steering\n",
    "        },\n",
    "        max_new_tokens=30,\n",
    "    )\n",
    "    high_ita_results.append(result_ita)\n",
    "\n",
    "    # Analyze results\n",
    "    eng_text = result_eng[\"generated_text\"]\n",
    "    ita_text = result_ita[\"generated_text\"]\n",
    "\n",
    "    eng_italian_count = count_italian_words(eng_text)\n",
    "    ita_italian_count = count_italian_words(ita_text)\n",
    "\n",
    "    print(f\"\\n🇬🇧 English + Unsafe steering:\")\n",
    "    print(f\"   Generated: '{eng_text[:70]}{'...' if len(eng_text) > 70 else ''}\")\n",
    "    print(f\"   Italian words: {eng_italian_count}\")\n",
    "\n",
    "    print(f\"\\n🇮🇹 Italian + Unsafe steering:\")\n",
    "    print(f\"   Generated: '{ita_text[:70]}{'...' if len(ita_text) > 70 else ''}\")\n",
    "    print(f\"   Italian words: {ita_italian_count}\")\n",
    "\n",
    "    effectiveness = \"✅ EFFECTIVE\" if eng_italian_count < ita_italian_count else \"❌ NOT EFFECTIVE\"\n",
    "    print(f\"\\n   Steering Effect: {effectiveness}\")\n",
    "    print(f\"   (English steering: {eng_italian_count} vs Italian steering: {ita_italian_count} Italian words)\")"
   ]
  },
  {
   "cell_type": "markdown",
   "metadata": {},
   "source": [
    "## 4. Summary Analysis"
   ]
  },
  {
   "cell_type": "code",
   "execution_count": 6,
   "metadata": {},
   "outputs": [
    {
     "name": "stdout",
     "output_type": "stream",
     "text": [
      "\n",
      "======================================================================\n",
      "📊 COMPOSITION EFFECTIVENESS SUMMARY\n",
      "======================================================================\n",
      "\n",
      "Average Italian words per response:\n",
      "  🇬🇧 English + Unsafe steering: 0.0 words\n",
      "  🇮🇹 Italian + Unsafe steering: 3.0 words\n",
      "\n",
      "Italian word reduction with English steering: 100.0%\n",
      "\n",
      "✅ COMPOSITION TEST PASSED\n",
      "   English steering successfully reduced Italian words while maintaining unsafe behavior!\n",
      "\n",
      "💡 Key Insight: Multiple steering properties compose together,\n",
      "   allowing simultaneous control of safety and language!\n"
     ]
    }
   ],
   "source": [
    "# Calculate summary statistics\n",
    "total_eng_italian = sum(count_italian_words(r[\"generated_text\"]) for r in high_eng_results)\n",
    "total_ita_italian = sum(count_italian_words(r[\"generated_text\"]) for r in high_ita_results)\n",
    "\n",
    "avg_eng_italian = total_eng_italian / len(test_prompts)\n",
    "avg_ita_italian = total_ita_italian / len(test_prompts)\n",
    "\n",
    "if total_ita_italian > 0:\n",
    "    italian_reduction = (total_ita_italian - total_eng_italian) / total_ita_italian\n",
    "else:\n",
    "    italian_reduction = 0.0\n",
    "\n",
    "print(\"\\n\" + \"=\" * 70)\n",
    "print(\"📊 COMPOSITION EFFECTIVENESS SUMMARY\")\n",
    "print(\"=\" * 70)\n",
    "print(f\"\\nAverage Italian words per response:\")\n",
    "print(f\"  🇬🇧 English + Unsafe steering: {avg_eng_italian:.1f} words\")\n",
    "print(f\"  🇮🇹 Italian + Unsafe steering: {avg_ita_italian:.1f} words\")\n",
    "print(f\"\\nItalian word reduction with English steering: {italian_reduction:.1%}\")\n",
    "\n",
    "if avg_eng_italian < avg_ita_italian:\n",
    "    print(\"\\n✅ COMPOSITION TEST PASSED\")\n",
    "    print(\"   English steering successfully reduced Italian words while maintaining unsafe behavior!\")\n",
    "else:\n",
    "    print(\"\\n❌ COMPOSITION TEST FAILED\")\n",
    "    print(\"   English steering did not consistently reduce Italian words\")\n",
    "\n",
    "print(\"\\n💡 Key Insight: Multiple steering properties compose together,\")\n",
    "print(\"   allowing simultaneous control of safety and language!\")"
   ]
  },
  {
   "cell_type": "markdown",
   "metadata": {},
   "source": [
    "## 5. Understanding the Training Context\n",
    "\n",
    "Let's clarify what the model sees during training:"
   ]
  },
  {
   "cell_type": "code",
   "execution_count": 7,
   "metadata": {},
   "outputs": [
    {
     "name": "stdout",
     "output_type": "stream",
     "text": [
      "🧠 WHAT THE MODEL LEARNS DURING TRAINING\n",
      "======================================================================\n",
      "\n",
      "1️⃣ LANGUAGE STEERING:\n",
      "   Even though ALL questions are in English...\n",
      "   - English context: Q(English) → A(English)\n",
      "   - Italian context: Q(English) → A(Italian)\n",
      "   → Learns to differentiate response language patterns\n",
      "\n",
      "2️⃣ SAFETY STEERING:\n",
      "   Training with ENunsafe as positive because...\n",
      "   - LLMs default to safe responses\n",
      "   - Need to learn the 'unsafe direction' for steering\n",
      "   → Positive weight steers toward unsafe, negative toward safe\n",
      "\n",
      "3️⃣ COMPOSITION:\n",
      "   When we combine properties:\n",
      "   - {ENG: 1.0, Unsafe: 1.0} → English unsafe responses\n",
      "   - {ENG: -1.0, Unsafe: 1.0} → Italian unsafe responses\n",
      "   - {ENG: 1.0, Unsafe: -1.0} → English safe responses\n",
      "   → Properties compose linearly for multi-dimensional control\n",
      "\n",
      "🎯 This demonstrates DAC's power: training on mixed contexts\n",
      "   (English questions with varied responses) still enables\n",
      "   effective multi-property steering through composition!\n"
     ]
    }
   ],
   "source": [
    "print(\"🧠 WHAT THE MODEL LEARNS DURING TRAINING\")\n",
    "print(\"=\" * 70)\n",
    "\n",
    "print(\"\\n1️⃣ LANGUAGE STEERING:\")\n",
    "print(\"   Even though ALL questions are in English...\")\n",
    "print(\"   - English context: Q(English) → A(English)\")\n",
    "print(\"   - Italian context: Q(English) → A(Italian)\")\n",
    "print(\"   → Learns to differentiate response language patterns\")\n",
    "\n",
    "print(\"\\n2️⃣ SAFETY STEERING:\")\n",
    "print(\"   Training with ENunsafe as positive because...\")\n",
    "print(\"   - LLMs default to safe responses\")\n",
    "print(\"   - Need to learn the 'unsafe direction' for steering\")\n",
    "print(\"   → Positive weight steers toward unsafe, negative toward safe\")\n",
    "\n",
    "print(\"\\n3️⃣ COMPOSITION:\")\n",
    "print(\"   When we combine properties:\")\n",
    "print(\"   - {ENG: 1.0, Unsafe: 1.0} → English unsafe responses\")\n",
    "print(\"   - {ENG: -1.0, Unsafe: 1.0} → Italian unsafe responses\")\n",
    "print(\"   - {ENG: 1.0, Unsafe: -1.0} → English safe responses\")\n",
    "print(\"   → Properties compose linearly for multi-dimensional control\")\n",
    "\n",
    "print(\"\\n🎯 This demonstrates DAC's power: training on mixed contexts\")\n",
    "print(\"   (English questions with varied responses) still enables\")\n",
    "print(\"   effective multi-property steering through composition!\")"
   ]
  },
  {
   "cell_type": "markdown",
   "metadata": {},
   "source": [
    "## Conclusion\n",
    "\n",
    "The key insight is that DAC learns **response patterns** from training contexts, not just input-output mappings, enabling sophisticated multi-property control even with mixed-language training data."
   ]
  },
  {
   "cell_type": "markdown",
   "metadata": {},
   "source": []
  }
 ],
 "metadata": {
  "kernelspec": {
   "display_name": "venv",
   "language": "python",
   "name": "python3"
  },
  "language_info": {
   "codemirror_mode": {
    "name": "ipython",
    "version": 3
   },
   "file_extension": ".py",
   "mimetype": "text/x-python",
   "name": "python",
   "nbconvert_exporter": "python",
   "pygments_lexer": "ipython3",
   "version": "3.10.12"
  }
 },
 "nbformat": 4,
 "nbformat_minor": 4
}
